{
 "cells": [
  {
   "cell_type": "markdown",
   "id": "b0f81cf5",
   "metadata": {},
   "source": [
    "## Correlação"
   ]
  },
  {
   "cell_type": "markdown",
   "id": "1d6ea1b0",
   "metadata": {},
   "source": [
    "### 1. Coeficiente de correlação de Pearson\n",
    "\n",
    "Consideram-se duas variáveis, $X$ e $Y$, para análise de correlação. Para uma amostra de $n$ pares $(x, y)$ o coeficiente linear de Pearson ($r$) fornece uma medida da relação linear entre as variáveis amostrais.\n",
    "\n",
    "Temos:\n",
    "\n",
    "- $S_{xx}=\\sum x_i^2 - \\frac{(\\sum x_i)^2}{n}$\n",
    "- $S_{yy}=\\sum y_i^2 - \\frac{(\\sum y_i)^2}{n}$\n",
    "- $S_{xy}=\\sum x_iy_i - \\frac{(\\sum x_i)(\\sum y_i)}{n}$\n",
    "\n",
    "Portanto, \n",
    "\n",
    "$r=\\frac{S_{xy}}{\\sqrt{S_{xx}\\cdot S_{yy}}}$\n",
    "\n",
    "Sabe-se que:\n",
    "- $0 < |r| < 0,4 \\rightarrow$ correlação fraca;\n",
    "- $0,4 < |r| < 0,6 \\rightarrow$ correlação regular;\n",
    "- $0,6 < |r| < 0,8 \\rightarrow$ correlação boa;\n",
    "- $0,8 < |r| < 0,99 \\rightarrow$ correlação forte;\n",
    "- $|r|=1 \\rightarrow$ correlação perfeita."
   ]
  },
  {
   "cell_type": "markdown",
   "id": "dca56a87",
   "metadata": {},
   "source": [
    "### 2. Teste de hipótese para o coeficiente de correlação\n",
    "\n",
    "2.1 Hipóteses:\n",
    "- $H_0: \\rho=0$ (não existe correlação), em que $\\rho$ é a correlação populacional\n",
    "- $H_a: \\rho \\neq 0$ (existe correlação)\n",
    "\n",
    "2.2 Estatística de teste:\n",
    "\n",
    "$T=\\frac{r \\sqrt{n-2}}{\\sqrt{1-r^2}}$ ~ $t_{n-2}$"
   ]
  }
 ],
 "metadata": {
  "kernelspec": {
   "display_name": "Python 3 (ipykernel)",
   "language": "python",
   "name": "python3"
  },
  "language_info": {
   "codemirror_mode": {
    "name": "ipython",
    "version": 3
   },
   "file_extension": ".py",
   "mimetype": "text/x-python",
   "name": "python",
   "nbconvert_exporter": "python",
   "pygments_lexer": "ipython3",
   "version": "3.9.5"
  }
 },
 "nbformat": 4,
 "nbformat_minor": 5
}
