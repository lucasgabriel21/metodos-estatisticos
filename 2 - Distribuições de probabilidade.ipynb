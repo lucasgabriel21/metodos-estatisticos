{
 "cells": [
  {
   "cell_type": "code",
   "execution_count": 1,
   "id": "a2eeab4c",
   "metadata": {},
   "outputs": [],
   "source": [
    "from scipy.stats import binom, norm\n",
    "import matplotlib.pyplot as plt"
   ]
  },
  {
   "cell_type": "markdown",
   "id": "37367f9a",
   "metadata": {},
   "source": [
    "# 1. Conceitos de probabilidade\n",
    "\n",
    "$P(A) = \\frac{Número\\;de\\;casos\\;favoráveis\\;para\\;o\\;evento\\;A}{Número\\;total\\;de\\;casos\\;(S)\\;que\\;o\\;evento\\;pode\\;ter}$\n",
    "\n",
    "Propriedades da probabilidade:  \n",
    "- $0 \\leqslant P(A) \\leqslant 1$\n",
    "- $P(S) = 1$\n",
    "- $P(\\phi) = 0$\n"
   ]
  },
  {
   "cell_type": "markdown",
   "id": "00681d2f",
   "metadata": {},
   "source": [
    "# 2. Distribuição de probabilidade\n",
    "\n",
    "Variável aleatória discreta:\n",
    "- Distruibuição de probabilidade caracterizada por uma função de probabilidade que associa o valor à sua probabilidade de ocorrência.\n",
    "\n",
    "Variável aleatória contínua:\n",
    "- $f(x) \\geqslant 0$\n",
    "- $\\int_{a}^{b} f(x)dx=P(a \\leqslant x \\leqslant b)\\;para\\;(b>a)$\n",
    "- $\\int_{-\\infty}^{\\infty} f(x)dx = 1$"
   ]
  },
  {
   "cell_type": "markdown",
   "id": "a2c0beac",
   "metadata": {},
   "source": [
    "# 3. Parâmetros das distribuições de probabilidade\n",
    "\n",
    "**Média**:  \n",
    "\n",
    "- Variáveis discretas:\n",
    "    - $E(X)=\\mu(x)=\\sum_{i} x_{i} \\cdot P(x_{i})$ , em que $P(x_{i})$ é a probabilidade de ocorrer o valor $x_{i}$\n",
    "- Variáveis contínuas:\n",
    "    - $E(X)=\\mu(x)=\\int_{-\\infty}^{+\\infty} x\\cdot f(x)dx$  \n",
    "\n",
    "**Variância**:  \n",
    "\n",
    "$Var(x)=\\sigma^2(x)=E(x^2)-[E(x)]^2$ onde $[E(x)]^2$ é calculado:\n",
    "- Para variáveis discretas:\n",
    "    - $\\sum_{i}x_{i}^2 \\cdot P(x_{i})$\n",
    "- Para variáveis contínuas:\n",
    "    - $\\int_{-\\infty}^{+\\infty} x^2 \\cdot f(x)dx$"
   ]
  },
  {
   "cell_type": "markdown",
   "id": "b3b3c2f9",
   "metadata": {},
   "source": [
    "$\n",
    "\\begin{matrix}\n",
    "Propriedades\\;da\\;media & Propriedades\\;da\\;variancia \\\\\n",
    " E(C)=C & \\sigma^2(C)=0 \\\\\n",
    " E(C \\cdot X)=E(X) \\cdot C & \\sigma^2(C \\cdot X)=\\sigma^2(X) \\cdot C^2 \\\\\n",
    " E(X\\pm Y)=E(X)\\pm E(Y) & \\sigma^2(X\\pm Y)=\\sigma^2(X)+\\sigma^2(Y) \\\\\n",
    " E(X+C) = E(X)+C & \\sigma^2(X+C)=\\sigma^2(X) \\\\\n",
    "\\end{matrix}\n",
    "$\n",
    "\n",
    "Em que C é uma constante."
   ]
  },
  {
   "cell_type": "markdown",
   "id": "5b9d5e05",
   "metadata": {},
   "source": [
    "# Distribuição Binomial\n",
    "Sendo realizadas $n$ observações em condições idênticas, com os dois possíveis resultados de cada observação definidos como \"sucesso\" ou \"fracasso\", com cada observação independente das demais e probabilidade de sucesso é igual a $p$ e a de\n",
    "fracasso falha igual a $1-p$.\n",
    "- $P(x=d)=\\binom{n}{d}\\cdot P^d \\cdot (1-P)^{n-d}$ \n",
    "\n",
    "**Sendo a média e variância dessa distruibuição**:\n",
    "- $\\mu(x)=n \\cdot p$\n",
    "- $\\sigma^2(X)=np \\cdot (1-p)$"
   ]
  },
  {
   "cell_type": "markdown",
   "id": "8d520d6a",
   "metadata": {},
   "source": [
    "Exemplo: Sabe-se que em um processo de fabricação de suco de tomate a fração de garrafas que\n",
    "contém volume inferior ao especificado é igual a 0,02. Se ao retirar uma amostra de 400 garrafas\n",
    "qual é a probabilidade de encontrar no máximo duas garrafas com volume abaixo do especificado?"
   ]
  },
  {
   "cell_type": "code",
   "execution_count": 2,
   "id": "223da33a",
   "metadata": {},
   "outputs": [
    {
     "name": "stdout",
     "output_type": "stream",
     "text": [
      "Distribuição: [0.0003093358658057105, 0.002525190741271115, 0.010281133732318154]\n"
     ]
    },
    {
     "data": {
      "image/png": "[encoded data removed]",
      "text/plain": [
       "<Figure size 432x288 with 1 Axes>"
      ]
     },
     "metadata": {
      "needs_background": "light"
     },
     "output_type": "display_data"
    },
    {
     "name": "stdout",
     "output_type": "stream",
     "text": [
      "A resposta é dada pela soma das probabilidades das 3 barras: 0.013 = 1.31%\n"
     ]
    }
   ],
   "source": [
    "n = 400\n",
    "p = 0.02\n",
    "r_values = [0, 1, 2]  # Valores de 0 até 2 garrafas\n",
    "# Distribuição da probabilidade de todos os valores até 2 garrafas\n",
    "dist = [binom.pmf(r, n, p) for r in r_values ]\n",
    "c_prob = sum(dist)  # Probabilidade cumulativa\n",
    "print('Distribuição:', dist)\n",
    "# Plot do gráfico\n",
    "plt.bar(r_values, dist, width=0.02)\n",
    "plt.xticks(r_values)\n",
    "plt.show()\n",
    "print('A resposta é dada pela soma das probabilidades das 3 barras: {:.3f} = {:.2f}%'.format(c_prob, 100*c_prob))"
   ]
  },
  {
   "cell_type": "markdown",
   "id": "b78f4173",
   "metadata": {},
   "source": [
    "# Distribuição Normal\n",
    "É o modelo mais importante de distribuição de probabilidade para variáveis contínuas, sendo sua **função densidade**:  \n",
    "- $f(x)=\\frac{1}{\\sqrt{2\\pi\\sigma^2}} \\cdot e^{\\frac{-(x-\\mu)^2}{2\\sigma^2}}$; $-\\infty<x<\\infty$\n",
    "- A definição da distribuição depende apenas da média e da variância\n",
    "- Curva em formato de sino (Gaussiana)\n",
    "- Simétrica em torno da média\n",
    "- **“o mesmo número de desvio padrões delimita áreas iguais”.**"
   ]
  },
  {
   "cell_type": "markdown",
   "id": "7e071f78",
   "metadata": {},
   "source": [
    "# Distribuição Normal Reduzida \n",
    "Estabelece um padrão para facilitar os cálculos com a distribuição normal, caracterizada por:  \n",
    "- $Z \\approx N(\\mu=0;\\;\\sigma^2=1=\\sigma)$\n",
    "- Há valores tabelados que relacionam os valores de $Z$ às suas probabilidades correspondentes\n",
    "- Algebricamente temos que $Z=\\frac{x-\\mu}{\\sigma}$"
   ]
  },
  {
   "cell_type": "markdown",
   "id": "a3f11619",
   "metadata": {},
   "source": [
    "Exemplo: Deseja-se calcular a probabilidade de $x \\leqslant 16$ onde $x$ é uma variável aleatória contínua com\n",
    "distribuição normal cuja média é igual a 15 e variância igual a 4."
   ]
  },
  {
   "cell_type": "code",
   "execution_count": 3,
   "id": "a8ba24d4",
   "metadata": {
    "scrolled": true
   },
   "outputs": [
    {
     "name": "stdout",
     "output_type": "stream",
     "text": [
      "O valor de Z é 0.5 que corresponde a uma probabilidade de 69.146%, de acordo com a distribuição normal reduzida.\n"
     ]
    }
   ],
   "source": [
    "x = 16\n",
    "mu = 15\n",
    "var = 4\n",
    "\n",
    "def normal_reduzida(x, mu, var):\n",
    "    \"\"\"Transforma uma distribuição normal em sua forma reduzida, com média 0 e variância 1\"\"\"\n",
    "    z = (x - mu)/((var)**(1/2))\n",
    "    return z\n",
    "\n",
    "Z = normal_reduzida(x, mu, var)\n",
    "norm_fda = norm.cdf(Z)\n",
    "\n",
    "print('O valor de Z é {} que corresponde a uma probabilidade de {:.3f}%,\\\n",
    " de acordo com a distribuição normal reduzida.'.format(Z, norm_fda*100))"
   ]
  },
  {
   "cell_type": "markdown",
   "id": "8a4bdb1c",
   "metadata": {},
   "source": [
    "# Exercícios"
   ]
  },
  {
   "cell_type": "markdown",
   "id": "1807ed80",
   "metadata": {},
   "source": [
    "#### 1. Um produtor de sementes vende pacotes com 20 sementes cada. Os pacotes que apresentarem mais de uma semente sem germinar serão indenizados. A probabilidade de uma semente germinar 0,98.  \n",
    "\n",
    "a)      Qual é a probabilidade de um pacote não ser indenizado?  \n",
    "\n",
    "b)      Se o produtor vende 1000 pacotes, qual é o número esperado de pacotes indenizados?"
   ]
  },
  {
   "cell_type": "code",
   "execution_count": 4,
   "id": "dac59372",
   "metadata": {},
   "outputs": [
    {
     "name": "stdout",
     "output_type": "stream",
     "text": [
      "Distribuição: [0.6676079717550942, 0.27249304969595706]\n",
      "A probabilidade de não ser indenizado é de 0.9401.\n"
     ]
    }
   ],
   "source": [
    "# a)\n",
    "n = 20  # Quantidade de sementes\n",
    "p = 0.02  # Probabilidade de não germinar\n",
    "r_val = [0, 1]  # Não germinar 0 ou 1 semente\n",
    "dist = [binom.pmf(r, n, p) for r in r_val]  # Distribuição binomial\n",
    "c_prob = sum(dist)\n",
    "print('Distribuição:', dist)\n",
    "print('A probabilidade de não ser indenizado é de {:.4f}.'.format(sum(dist)))"
   ]
  },
  {
   "cell_type": "code",
   "execution_count": 5,
   "id": "d4ddddfe",
   "metadata": {},
   "outputs": [
    {
     "name": "stdout",
     "output_type": "stream",
     "text": [
      "O valor esperado é de 59.90 pacotes indenizados.\n"
     ]
    }
   ],
   "source": [
    "# b)\n",
    "p_ind = 1 - c_prob\n",
    "media = p_ind * 1000\n",
    "print('O valor esperado é de {:.2f} pacotes indenizados.'.format(media))"
   ]
  },
  {
   "cell_type": "markdown",
   "id": "33a304b1",
   "metadata": {},
   "source": [
    "#### 3. Após 28 dias de curagem o cimento Portland comum tem uma resistência compressiva média de 4000 psi. Suponha que essa resistência tenha distribuição normal com desvio padrão de 120 psi. Determine as probabilidades para uma resistência compressiva:  \n",
    "a) < 3900  b) < 3850  c) > 3850  d) > 3880  e) > 3750 e menor que 4250."
   ]
  },
  {
   "cell_type": "code",
   "execution_count": 6,
   "id": "ab331f67",
   "metadata": {},
   "outputs": [],
   "source": [
    "# Dados da distribuição\n",
    "mu = 4000\n",
    "desv = 120"
   ]
  },
  {
   "cell_type": "code",
   "execution_count": 7,
   "id": "2da532ba",
   "metadata": {},
   "outputs": [
    {
     "name": "stdout",
     "output_type": "stream",
     "text": [
      "A probabilidade da resistência ser menor que 3900 psi é de 0.202.\n"
     ]
    }
   ],
   "source": [
    "# a) Menor que 3900\n",
    "x = 3900\n",
    "Z = normal_reduzida(x, mu, desv**2)\n",
    "norm_fda = norm.cdf(Z)\n",
    "print('A probabilidade da resistência ser menor que 3900 psi é de {:.3f}.'.format(norm_fda))"
   ]
  },
  {
   "cell_type": "code",
   "execution_count": 8,
   "id": "e1b42aca",
   "metadata": {},
   "outputs": [
    {
     "name": "stdout",
     "output_type": "stream",
     "text": [
      "A probabilidade da resistência ser menor que 3850 psi é de 0.106.\n"
     ]
    }
   ],
   "source": [
    "# b) Menor que 3850\n",
    "x = 3850\n",
    "Z = normal_reduzida(x, mu, desv**2)\n",
    "norm_fda = norm.cdf(Z)\n",
    "print('A probabilidade da resistência ser menor que 3850 psi é de {:.3f}.'.format(norm_fda))"
   ]
  },
  {
   "cell_type": "code",
   "execution_count": 9,
   "id": "40a15cf9",
   "metadata": {},
   "outputs": [
    {
     "name": "stdout",
     "output_type": "stream",
     "text": [
      "A probabilidade da resistência ser maior que 3850 psi é de 0.894.\n"
     ]
    }
   ],
   "source": [
    "# c) Maior que 3850\n",
    "x = 3850\n",
    "Z = normal_reduzida(x, mu, desv**2)\n",
    "norm_fda = norm.cdf(Z)\n",
    "prob = 1 - norm_fda\n",
    "print('A probabilidade da resistência ser maior que 3850 psi é de {:.3f}.'.format(prob))"
   ]
  },
  {
   "cell_type": "code",
   "execution_count": 10,
   "id": "62ff7fbf",
   "metadata": {},
   "outputs": [
    {
     "name": "stdout",
     "output_type": "stream",
     "text": [
      "A probabilidade da resistência ser maior 3880 psi é de 0.841.\n"
     ]
    }
   ],
   "source": [
    "# d) Maior que 3880\n",
    "x = 3880\n",
    "Z = normal_reduzida(x, mu, desv**2)\n",
    "norm_fda = norm.cdf(Z)\n",
    "prob = 1 - norm_fda\n",
    "print('A probabilidade da resistência ser maior 3880 psi é de {:.3f}.'.format(prob))"
   ]
  },
  {
   "cell_type": "code",
   "execution_count": 11,
   "id": "fff31312",
   "metadata": {},
   "outputs": [
    {
     "name": "stdout",
     "output_type": "stream",
     "text": [
      "A probabilidade da resistência estar entre 3750 psi e 4250 psi é de 0.963.\n"
     ]
    }
   ],
   "source": [
    "# e) Entre 3750 e 4250\n",
    "x1 = 3750\n",
    "x2 = 4250\n",
    "Z1 = normal_reduzida(x1, mu, desv**2)\n",
    "Z2 = normal_reduzida(x2, mu, desv**2)\n",
    "norm_fda_inferior = norm.cdf(Z1)\n",
    "norm_fda_superior = norm.cdf(Z2)\n",
    "prob = norm_fda_superior - norm_fda_inferior\n",
    "print('A probabilidade da resistência estar entre 3750 psi e 4250 psi é de {:.3f}.'.format(prob))"
   ]
  }
 ],
 "metadata": {
  "kernelspec": {
   "display_name": "Python 3 (ipykernel)",
   "language": "python",
   "name": "python3"
  },
  "language_info": {
   "codemirror_mode": {
    "name": "ipython",
    "version": 3
   },
   "file_extension": ".py",
   "mimetype": "text/x-python",
   "name": "python",
   "nbconvert_exporter": "python",
   "pygments_lexer": "ipython3",
   "version": "3.9.5"
  }
 },
 "nbformat": 4,
 "nbformat_minor": 5
}
