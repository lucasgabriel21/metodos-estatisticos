{
 "cells": [
  {
   "cell_type": "markdown",
   "id": "3ea283e4",
   "metadata": {},
   "source": [
    "# 1. Tipos de variáveis\n",
    "\n",
    "- **Quantitativa**:  \n",
    "    - Discreta (bar chart);  \n",
    "    - Contínua (histograma);  \n",
    "    - Aceita análises numéricas.  \n",
    "\n",
    "\n",
    "- **Qualitativa**:\n",
    "    - Nominais;\n",
    "    - Ordinais;\n",
    "    - Análise subjetiva;  \n",
    "    - Diagrama de Pareto."
   ]
  },
  {
   "cell_type": "markdown",
   "id": "10319205",
   "metadata": {},
   "source": [
    "# 2. Organizando grandes conjuntos de valores\n",
    "\n",
    "- Distribuição de frequência através da subdivisão em classes;  \n",
    "- Número de classes ($K$) é a raiz quadrada do tamanho da amostra;  \n",
    "- A primeira classe começa antes do valor mínimo do conjunto de dados;  \n",
    "- O intervalo entre blocos é dado pela razão entre amplitude e o número de classes."
   ]
  },
  {
   "cell_type": "markdown",
   "id": "6e5118ce",
   "metadata": {},
   "source": [
    "# 3. Estatística descritiva\n",
    "- **Medidas de posição**:  \n",
    "    - **Média**:\n",
    "        - Valores amostrais:  \n",
    "        $\\bar{x} = \\frac{\\sum xi}{n}$\n",
    "        - Valores populacionais:  \n",
    "        $\\mu = \\frac{\\sum xi}{N} $    \n",
    "    - **Mediana**:                 \n",
    "        - Divide os valores em duas partes de mesmo tamanho.  \n",
    "    - **Moda**:\n",
    "        - Valor visto com maior frequência.\n",
    "        \n",
    "\n",
    "- **Medidas de dispersão**:\n",
    "    - **Amplitude (R)**:\n",
    "        - $R = x_{max} - x_{min}$\n",
    "    - **Variância**:\n",
    "        - Amostral ($s^2$):\n",
    "            - $s^2 = \\frac{\\sum (xi - x)^2}{n-1}$\n",
    "        - Populacional ($\\sigma^2$):\n",
    "            - $\\sigma^2 = \\frac{\\sum (xi - \\mu)^2}{N}$\n",
    "    - **Desvio padrão**:\n",
    "        - $s = \\sqrt{s^2}$ (amostral);\n",
    "        - $\\sigma = \\sqrt{\\sigma^2}$ (populacional)."
   ]
  }
 ],
 "metadata": {
  "kernelspec": {
   "display_name": "Python 3 (ipykernel)",
   "language": "python",
   "name": "python3"
  },
  "language_info": {
   "codemirror_mode": {
    "name": "ipython",
    "version": 3
   },
   "file_extension": ".py",
   "mimetype": "text/x-python",
   "name": "python",
   "nbconvert_exporter": "python",
   "pygments_lexer": "ipython3",
   "version": "3.9.5"
  }
 },
 "nbformat": 4,
 "nbformat_minor": 5
}
