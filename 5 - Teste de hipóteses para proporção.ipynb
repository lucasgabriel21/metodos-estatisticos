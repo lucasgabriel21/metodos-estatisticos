{
 "cells": [
  {
   "cell_type": "markdown",
   "id": "a3390414",
   "metadata": {},
   "source": [
    "## Teste de hipótese para proporção"
   ]
  },
  {
   "cell_type": "markdown",
   "id": "a9498b61",
   "metadata": {},
   "source": [
    "### 1. Hipóteses estatísticas:\n",
    "\n",
    "- $H_0: \\pi = \\pi_0$\n",
    "- $H_a: \\newline \\pi \\neq \\pi_0 \\newline \\pi > \\pi_0 \\newline \\pi < \\pi_0$"
   ]
  },
  {
   "cell_type": "markdown",
   "id": "cc414f43",
   "metadata": {},
   "source": [
    "### 2. Pressuposição\n",
    "\n",
    "Aproximação da distribuição normal sendo que $n$ é grande $\\Rightarrow np > 5, n(1-p)>5$ em que $p$ é o estimador de $\\pi$, isto é, $p=\\frac{x}{n}$ é proporção amostral."
   ]
  },
  {
   "cell_type": "markdown",
   "id": "345bd774",
   "metadata": {},
   "source": [
    "### 3. Estatística de teste\n",
    "\n",
    "$ Z = \\frac{p-\\pi_0}{\\sqrt{\\frac{\\pi_0 (1- \\pi_0 )}{n}}}$ ~ $N(0,1)$"
   ]
  },
  {
   "cell_type": "markdown",
   "id": "91d8a84c",
   "metadata": {},
   "source": [
    "### 4. Teste para duas proporções\n",
    "\n",
    "- $H_0: \\pi_1 = \\pi_2$\n",
    "- $H_a: \\newline \\pi_1 \\neq \\pi_2 \\newline \\pi_1 > \\pi_2 \\newline \\pi_1 < \\pi_2$\n",
    "\n",
    "A estatística de teste utilizada é então:\n",
    "$Z = \\frac{p_1-p_2}{\\sqrt{\\frac{p_1(1-p_1)}{n_1}+\\frac{p_2(1-p_2)}{n_2}}}$~$N(0,1)$"
   ]
  }
 ],
 "metadata": {
  "kernelspec": {
   "display_name": "Python 3 (ipykernel)",
   "language": "python",
   "name": "python3"
  },
  "language_info": {
   "codemirror_mode": {
    "name": "ipython",
    "version": 3
   },
   "file_extension": ".py",
   "mimetype": "text/x-python",
   "name": "python",
   "nbconvert_exporter": "python",
   "pygments_lexer": "ipython3",
   "version": "3.9.5"
  }
 },
 "nbformat": 4,
 "nbformat_minor": 5
}
