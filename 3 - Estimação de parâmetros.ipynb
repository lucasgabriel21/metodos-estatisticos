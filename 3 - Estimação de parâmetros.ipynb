{
 "cells": [
  {
   "cell_type": "markdown",
   "id": "f9cb2420",
   "metadata": {},
   "source": [
    "# Estimação de parâmetros"
   ]
  },
  {
   "cell_type": "markdown",
   "id": "9a1bd61a",
   "metadata": {},
   "source": [
    "## 1. Estimação por ponto\n",
    "\n",
    "- Obtenção de um único valor para estimação de parâmetros \n",
    "\n",
    "Exemplo:\n",
    "- Média amostral\n",
    "\n",
    "$\\bar{x}=\\frac{\\sum x_i}{n}$\n",
    "\n",
    "- Variância amostral\n",
    "\n",
    "$s^2=\\frac{\\sum (x_i-\\bar{x})^2}{n-1}$"
   ]
  },
  {
   "cell_type": "markdown",
   "id": "796e916a",
   "metadata": {},
   "source": [
    "## 2. Estimação por intervalo\n",
    "\n",
    "- Cria-se um intervalo de confiança para determinar a probabilidade de o parâmetro estar entre dois valores\n",
    "- Quanto maior a amplitude do intervalo, maior a confiança do valor se encontrar ali, porém, há menos precisão"
   ]
  },
  {
   "cell_type": "markdown",
   "id": "51a86fc1",
   "metadata": {},
   "source": [
    "### 2.1 Intervalos de confiança para $\\mu$"
   ]
  },
  {
   "cell_type": "markdown",
   "id": "94e6be2d",
   "metadata": {},
   "source": [
    "1. Intervalo de confiança para média de $\\mathbf{uma}$ população  \n",
    "- Caso o valor de $\\sigma$ seja conhecido, ou $n>30$:  \n",
    "  \n",
    "    - Se $Z$ é a normal padronizada, o $\\mathbf{nível\\,de\\,confiança}$ $\\mathbf{1-\\alpha}$ é a probabilidade de os limites conterem o verdadeiro valor de $\\mu$. Dessa forma $\\mathbf{\\alpha}$ é a probabilidade admitida do parâmetro a ser estimado (nesse caso $\\mu$) estar fora do intervalo estipulado;\n",
    "    - Para a distribuição amostral da média, $Z=\\frac{\\bar{X}-\\mu}{\\frac{\\sigma}{\\sqrt n}}$;\n",
    "    - Manipulando $Z$ chegamos na fórmula para o intervalo de confiança:  \n",
    "    \n",
    "    $P(\\bar{X}-Z_{\\alpha/2}\\frac{\\sigma}{\\sqrt n}<\\mu<\\bar{X}+Z_{\\alpha/2}\\frac{\\sigma}{\\sqrt n})=1-\\alpha$\n",
    "    \n",
    "    - Caso o valor do $\\sigma$ não seja conhecido, para uma população grande, ele pode ser aproximado pelo desvio padrão da amostra.\n",
    "    \n",
    "    \n",
    "- Caso o valor de $\\sigma$ não seja conhecido e $n<30$:\n",
    "\n",
    "    - Em vez de $Z$ utiliza-se a distribuição $t$ de Student com $\\nu$ ($n-1$) graus de liberdade e o desvio padrão amostral $S$;\n",
    "    - A nova fórmula para o intervalo de confiança é dada por:  \n",
    "    \n",
    "    $P(\\bar{X}-t_{\\alpha/2}\\frac{S}{\\sqrt n}<\\mu<\\bar{X}+t_{\\alpha/2}\\frac{S}{\\sqrt n}=1-\\alpha$"
   ]
  },
  {
   "cell_type": "markdown",
   "id": "7aeaf89b",
   "metadata": {},
   "source": [
    "2. Intervalo de confiança para diferença entre médias de $\\mathbf{duas}$ populações ($\\mu_1-\\mu_2$)  \n",
    "\n",
    "- O intervalo de confiança é representado por $IC(\\mu_1-\\mu_2;1-\\alpha)$:\n",
    "\n",
    "     $\\bar{X_1}-\\bar{X_2}\\pm t_{\\alpha/2} \\sqrt {(\\frac{1}{n_1}+\\frac{1}{n_2})S^2}$"
   ]
  },
  {
   "cell_type": "markdown",
   "id": "685c730b",
   "metadata": {},
   "source": [
    "### 2.2 Intervalos de confiança para $\\sigma^2$ "
   ]
  },
  {
   "cell_type": "markdown",
   "id": "d167f3c6",
   "metadata": {},
   "source": [
    "- A distribuição $\\chi^2$ é a base para inferência da variância ($\\sigma^2$)\n",
    "- A expressão do intervalo de confiança é dada por:  \n",
    "\n",
    "$P(\\frac{(n-1)S^2}{q_{\\alpha/2,n-1}} \\leqslant \\sigma^2 \\leqslant \\frac{(n-1)S^2}{q'_{\\alpha/2,n-1}})=1-\\alpha$"
   ]
  },
  {
   "cell_type": "markdown",
   "id": "ca79c253",
   "metadata": {},
   "source": [
    "## 3. Dimensionamento de amostra\n",
    "\n",
    "A semi-amplitude do intervalo de confiança, que é a precisão da estimação, é dada por:\n",
    "    \n",
    "$d=z_{\\alpha/2}\\frac{\\sigma}{\\sqrt n}$, isolando $n$: $n=z^2_{\\alpha/2}\\frac{\\sigma^2}{d^2}$\n",
    "\n",
    "Ou, ainda:\n",
    "\n",
    "$d=t_{\\alpha/2}\\frac{s}{\\sqrt n}$, em que $n=t^2_{\\alpha/2}\\frac{s^2}{d^2}$"
   ]
  }
 ],
 "metadata": {
  "kernelspec": {
   "display_name": "Python 3 (ipykernel)",
   "language": "python",
   "name": "python3"
  },
  "language_info": {
   "codemirror_mode": {
    "name": "ipython",
    "version": 3
   },
   "file_extension": ".py",
   "mimetype": "text/x-python",
   "name": "python",
   "nbconvert_exporter": "python",
   "pygments_lexer": "ipython3",
   "version": "3.9.5"
  }
 },
 "nbformat": 4,
 "nbformat_minor": 5
}
