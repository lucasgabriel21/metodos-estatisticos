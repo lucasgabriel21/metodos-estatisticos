{
 "cells": [
  {
   "cell_type": "markdown",
   "id": "93d81382",
   "metadata": {},
   "source": [
    "## Testes de hipóteses para a variância"
   ]
  },
  {
   "cell_type": "markdown",
   "id": "d3d87704",
   "metadata": {},
   "source": [
    "### 1. Hipóteses estatísticas:\n",
    "\n",
    "- $H_0: \\sigma^2 = \\sigma_0^2$\n",
    "- $H_a:$  \n",
    "$\\sigma^2 \\neq \\sigma_0^2$  \n",
    "$\\sigma^2 > \\sigma_0^2$  \n",
    "$\\sigma^2 < \\sigma_0^2$      \n"
   ]
  },
  {
   "cell_type": "markdown",
   "id": "4c30a9ff",
   "metadata": {},
   "source": [
    "### 2. Pressuposição\n",
    "\n",
    "Supõe-se a normalidade da população de onde é retirada a amostra."
   ]
  },
  {
   "cell_type": "markdown",
   "id": "5403aec1",
   "metadata": {},
   "source": [
    "### 3. Estatística de teste\n",
    "\n",
    "$Q = \\frac{(n-1)S^2}{\\sigma_0^2}$ ~ $\\chi^2(n-1)$"
   ]
  },
  {
   "cell_type": "markdown",
   "id": "7ca3132b",
   "metadata": {},
   "source": [
    "### 4. Teste de hipóteses para duas variâncias\n",
    "\n",
    "- $H_0: \\sigma_1^2 = \\sigma_2^2$\n",
    "- $H_a: \\sigma_1^2 \\neq \\sigma_2^2$  \n",
    "\n",
    "A estatística de teste utilizada é $F = \\frac{S_1^2}{S_2^2}$ (devemos garantir que $S_1^2>S_2^2$).\n",
    "\n",
    "- No teste bilateral devemos utilizar $\\frac{\\alpha}{2}$."
   ]
  }
 ],
 "metadata": {
  "kernelspec": {
   "display_name": "Python 3 (ipykernel)",
   "language": "python",
   "name": "python3"
  },
  "language_info": {
   "codemirror_mode": {
    "name": "ipython",
    "version": 3
   },
   "file_extension": ".py",
   "mimetype": "text/x-python",
   "name": "python",
   "nbconvert_exporter": "python",
   "pygments_lexer": "ipython3",
   "version": "3.9.5"
  }
 },
 "nbformat": 4,
 "nbformat_minor": 5
}
