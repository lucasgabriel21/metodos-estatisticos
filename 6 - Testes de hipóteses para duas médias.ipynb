{
 "cells": [
  {
   "cell_type": "markdown",
   "id": "7cbff499",
   "metadata": {},
   "source": [
    "## Testes de hipótese para comparação entre duas médias ($\\mu_1$ e $\\mu_2$)"
   ]
  },
  {
   "cell_type": "markdown",
   "id": "1bb5dafa",
   "metadata": {},
   "source": [
    "### 1. Comparação desemparelhada do tipo 1\n",
    "\n",
    "1.1 Pressuposições:\n",
    "- Distribuição normal;\n",
    "- As variâncias $\\sigma_1^2$ e $\\sigma_2^2$ são $\\mathbf{conhecidas}$;\n",
    "- As amostras retiradas são independentes\n",
    "\n",
    "1.2 Hipótese sob verificação:\n",
    "- $H_0: \\mu_1=\\mu_2$\n",
    "\n",
    "1.3 Estatística de teste:\n",
    "\n",
    "$ Z= \\frac{\\bar{X_1}-\\bar{X_2}}{\\sqrt{\\frac{\\sigma_1^2}{n_1}+\\frac{\\sigma_2^2}{n_2}}}$ ~ $N(0,1)$"
   ]
  },
  {
   "cell_type": "markdown",
   "id": "d4a64c12",
   "metadata": {},
   "source": [
    "### 2. Comparação desemparelhada do tipo 2\n",
    "\n",
    "2.1 Pressuposições:\n",
    "- Distribuição normal;\n",
    "- As variâncias $\\sigma_1^2$ e $\\sigma_2^2$ são $\\mathbf{desconhecidas}$ mas supostamente $\\mathbf{iguais}$;\n",
    "- As amostras retiradas são independentes\n",
    "\n",
    "2.2 Hipótese sob verificação:\n",
    "- $H_0: \\mu_1=\\mu_2$\n",
    "\n",
    "2.3 Estatística de teste:\n",
    "\n",
    "$ T = \\frac{\\bar{X_1}-\\bar{X_2}}{\\sqrt{(\\frac{1}{n_1}+\\frac{1}{n_2})S^2}}$ ~ $t_\\nu$\n",
    "\n",
    "Onde $\\nu = (n_1-1)+(n_2-1)$ e $S^2 = \\frac{S_1^2(n_1-1)+S_2^2(n_2-1)}{(n_1-1)+(n_2-1)}$"
   ]
  },
  {
   "cell_type": "markdown",
   "id": "f05da389",
   "metadata": {},
   "source": [
    "### 3. Comparação desemparelhada do tipo 3\n",
    "\n",
    "3.1 Pressuposições:\n",
    "- Distribuição normal;\n",
    "- As variâncias $\\sigma_1^2$ e $\\sigma_2^2$ são $\\mathbf{desconhecidas}$ e $\\mathbf{desiguais}$;\n",
    "- As amostras retiradas são independentes\n",
    "\n",
    "3.2 Hipótese sob verificação:\n",
    "- $H_0: \\mu_1=\\mu_2$\n",
    "\n",
    "3.3 Estatística de teste:\n",
    "\n",
    "$ T = \\frac{\\bar{X_1}-\\bar{X_2}}{\\sqrt{\\frac{S_1^2}{n_1}+\\frac{S_2^2}{n_2}}}$ ~ $t_\\nu$\n",
    "\n",
    "Onde $ \\nu = \\frac{(S_1^2\\;/\\;n_1 + S_2^2\\;/\\;n_2)^2}{ \\frac{(S_1^2\\;/\\;n_1)^2}{n_1-1} + \\frac{(S_2^2\\;/\\;n_2)^2}{n_2-1} }$"
   ]
  },
  {
   "cell_type": "markdown",
   "id": "3ef8d803",
   "metadata": {},
   "source": [
    "### 4. Comparação para dados emparelhados\n",
    "\n",
    "4.1 Pressuposições\n",
    "\n",
    "- $H_0: \\mu_d=0 \\; (\\mu_1=\\mu_2)$ \n",
    "- $H_a: \\newline \\mu_d \\neq 0 \\; (\\mu_1 \\neq \\mu_2) \\newline \\mu_d > 0 \\; (\\mu_1 > \\mu_2) \\newline \\mu_d < 0 \\; (\\mu_1 < \\mu_2)$\n",
    "\n",
    "Em que $\\mu_d$ é a média das diferenças entre as duas médias.\n",
    "\n",
    "4.2 Estatística de teste:\n",
    "\n",
    "$T=\\frac{\\bar{d}}{S_d \\; / \\; \\sqrt{n}}$ ~ $t_{n-1}$\n",
    "\n",
    "Em que $n$ é o número de pares de observações"
   ]
  }
 ],
 "metadata": {
  "kernelspec": {
   "display_name": "Python 3 (ipykernel)",
   "language": "python",
   "name": "python3"
  },
  "language_info": {
   "codemirror_mode": {
    "name": "ipython",
    "version": 3
   },
   "file_extension": ".py",
   "mimetype": "text/x-python",
   "name": "python",
   "nbconvert_exporter": "python",
   "pygments_lexer": "ipython3",
   "version": "3.9.5"
  }
 },
 "nbformat": 4,
 "nbformat_minor": 5
}
