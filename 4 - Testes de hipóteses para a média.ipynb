{
 "cells": [
  {
   "cell_type": "markdown",
   "id": "b8520d8e",
   "metadata": {},
   "source": [
    "## Teste de hipóteses"
   ]
  },
  {
   "cell_type": "markdown",
   "id": "0ef53560",
   "metadata": {},
   "source": [
    "### 1. Hipótese de nulidade ($H_0$):  \n",
    "\n",
    "- Hipótese sob verificação que supõe a $\\mathbf{igualdade}$ dos parâmetros que estão sendo comparados;\n",
    "- $H_0:\\mu=\\mu_0$\n",
    "\n",
    "### 2. Hipótese alternativa ($H_a$):\n",
    "\n",
    "- Hipótese considerada caso a hipótese de nulidade seja rejeitada, supõe que os parâmetros comparados sejam diferentes;\n",
    "- Escolher uma das três:\n",
    "    - $H_a:\\mu\\neq\\mu_0$; bilateral;\n",
    "    - $H_a:\\mu>\\mu_0$; unilateral direita;\n",
    "    - $H_a:\\mu<\\mu_0$; unilateral esquerda."
   ]
  },
  {
   "cell_type": "markdown",
   "id": "af05de1b",
   "metadata": {},
   "source": [
    "### Passos para a construção de um teste de hipóteses\n",
    "1. Definir as hipóteses estatísticas;\n",
    "2. Fixar a taxa de erro aceitável ($\\alpha$, nível de significância);\n",
    "3. Escolher a estatística para testar a hipótese e verificar as pressuposições para seu uso;\n",
    "4. Usar os dados da amostra para calcular o valor da estatística do teste;\n",
    "5. Decidir sobre a hipótese testada e concluir."
   ]
  },
  {
   "cell_type": "markdown",
   "id": "1a471125",
   "metadata": {},
   "source": [
    "### Testes de hipóteses a respeito de $\\mu$\n",
    "\n",
    "1. Comparação de uma média ($\\mu$) com um valor padrão ($\\mu_0$)\n",
    "    - $\\sigma^2$ conhecida ou $n>30$ :\n",
    "        - Estatística de teste:\n",
    "        $Z=\\frac{\\bar{X}-\\mu_0}{\\frac{\\sigma}{\\sqrt n}} $~$ N(0, 1)$\n",
    "    - $\\sigma^2$ desconhecida e $n \\leqslant 30$ :\n",
    "        - Estatística de teste:\n",
    "        $T=\\frac{\\bar{X}-\\mu_0}{\\frac{S}{\\sqrt n}}$~$t_\\nu$, onde $\\nu=n-1$\n",
    "    - Outro critério de decisão a respeito de $H_0$:\n",
    "        - $p$ é a probabilidade de que seja obtido um valor de $T$ mais extremo que o valor observado, dado que $H_0$ é verdadeira;\n",
    "        - Se $p\\geqslant\\alpha$ $\\mathbf{não\\;rejeitamos}$ a hipótese nula pois $t_c$ está em uma região de alta probabilidade."
   ]
  }
 ],
 "metadata": {
  "kernelspec": {
   "display_name": "Python 3 (ipykernel)",
   "language": "python",
   "name": "python3"
  },
  "language_info": {
   "codemirror_mode": {
    "name": "ipython",
    "version": 3
   },
   "file_extension": ".py",
   "mimetype": "text/x-python",
   "name": "python",
   "nbconvert_exporter": "python",
   "pygments_lexer": "ipython3",
   "version": "3.9.5"
  }
 },
 "nbformat": 4,
 "nbformat_minor": 5
}
