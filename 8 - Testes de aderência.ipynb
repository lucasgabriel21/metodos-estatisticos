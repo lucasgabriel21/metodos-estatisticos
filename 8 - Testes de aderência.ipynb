{
 "cells": [
  {
   "cell_type": "markdown",
   "id": "b3aa0f9d",
   "metadata": {},
   "source": [
    "## Testes de aderência"
   ]
  },
  {
   "cell_type": "markdown",
   "id": "20399bd8",
   "metadata": {},
   "source": [
    "### 1. Teste $\\chi^2$ \n",
    "\n",
    "Estatística de teste:\n",
    "\n",
    "$\\chi^2_\\nu = \\sum_{i=1}^{k} \\frac{(O_i - E_i)^2}{E_i}$\n",
    "\n",
    "Em que:\n",
    "\n",
    "- $\\nu$ o número de graus de liberdade;\n",
    "- $O_i$ a frequência observada de uma classe ou valor de variável;\n",
    "- $E_i (np)$ a frequência esperada da classe ou valor de variável;\n",
    "- $n$ o número de elementos na amostra; \n",
    "- $p$ probabilidade de se obter um valor da variável na classe considerada;\n",
    "- $k$ o número de classes ou valores considerados.\n",
    "\n",
    "Devemos observar o seguinte:\n",
    "\n",
    "- Caso existam classes em que $E_i<5$, estas devem ser fundidas às classes adjacentes;\n",
    "- $\\nu=k-1-m$, em que $m$ é o número de parâmetros estimados para realização do teste de aderência.\n",
    "\n",
    "Conforme aprendido nos testes de hipóteses anteriores, rejeitamos a hipótese $H_0$ quando $\\chi^2_{calculado} > \\chi^2_{tabelado}$."
   ]
  },
  {
   "cell_type": "markdown",
   "id": "cbf1a5fb",
   "metadata": {},
   "source": [
    "### 2. Teste de Kolmogorov-Smirnov\n",
    "\n",
    "Estatística de teste:\n",
    "\n",
    "$D = max(|F(X)-G(X)|)$\n",
    "\n",
    "Em que:\n",
    "\n",
    "- $F(X)$ é a função distribuição acumulada esperada;\n",
    "- $G(X)$ é a função distribuiçào acumulada da amostra.\n",
    "\n",
    "A hipótese nula $H_0$ é rejeitada se $D_{calculado} > D_{tabelado}$."
   ]
  }
 ],
 "metadata": {
  "kernelspec": {
   "display_name": "Python 3 (ipykernel)",
   "language": "python",
   "name": "python3"
  },
  "language_info": {
   "codemirror_mode": {
    "name": "ipython",
    "version": 3
   },
   "file_extension": ".py",
   "mimetype": "text/x-python",
   "name": "python",
   "nbconvert_exporter": "python",
   "pygments_lexer": "ipython3",
   "version": "3.9.5"
  }
 },
 "nbformat": 4,
 "nbformat_minor": 5
}
