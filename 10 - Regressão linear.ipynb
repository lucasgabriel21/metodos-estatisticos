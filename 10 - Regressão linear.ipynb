{
 "cells": [
  {
   "cell_type": "markdown",
   "id": "0af99e02",
   "metadata": {},
   "source": [
    "## Regressão linear "
   ]
  },
  {
   "cell_type": "markdown",
   "id": "019ff1dd",
   "metadata": {},
   "source": [
    "### 1. Regressão linear simples\n",
    "\n",
    "Em geral supõe-se a existência de uma variável dependente $Y$ e uma variável preditora $X$. A regressão linear simples estima a equação matemática que prevê o valor de $Y$ em função de $X$.\n",
    "\n",
    "Por exemplo: \n",
    "\n",
    "$Y = \\beta_0 + \\beta_1X + \\epsilon$\n",
    "\n",
    "Em que:\n",
    "- $\\beta_0$ é a intersecção\n",
    "- $\\beta_1$ o coeficiente angular da reta\n",
    "- $\\epsilon$ o erro aleatório\n",
    "\n",
    "Quando temos $n$ pares $(x, y)$, torna-se possível estimar os parâmetros $\\beta_0$ e $\\beta_1$ por meio do Método dos Mínimos Quadrados."
   ]
  },
  {
   "cell_type": "markdown",
   "id": "91112994",
   "metadata": {},
   "source": [
    "### 2. Método dos Mínimos Quadrados (MMQ)\n",
    "\n",
    "Temos $b_0$ e $b_1$ como estimativas amostrais dos valores $\\beta_0$ e $\\beta_1$, respectivamente:\n",
    "\n",
    "$b_1=\\frac{\\sum x_iy_i - (\\sum x_i)(\\sum y_i)/n}{\\sum x_i^2 - (\\sum x_i)^2/n}=\\frac{S_{xy}}{S_{xx}}$ e $b_0=\\bar Y - b_1\\bar X$"
   ]
  },
  {
   "cell_type": "markdown",
   "id": "dbf251b2",
   "metadata": {},
   "source": [
    "### 3. Coeficiente de determinação\n",
    "\n",
    "O coeficiente de determinação $(r^2)$ equivale à proporção da variância dos valores de $Y$ que pode ser atribuída à regressão com a variável $X$"
   ]
  },
  {
   "cell_type": "markdown",
   "id": "76f2f793",
   "metadata": {},
   "source": [
    "### 4. Intervalos de confiança e testes de hipóteses\n",
    "\n",
    "Sabendo que $b_0 \\rightarrow N(\\beta_0, \\sigma_{b_0}^2)$ e $b_1 \\rightarrow N(\\beta_1, \\sigma_{b_1}^2)$\n",
    "\n",
    "4.1 Teste de hipóteses para $\\beta_1$:\n",
    "- $H_0:\\beta_1=0$\n",
    "- $H_a:\\beta_1 \\neq 0$\n",
    "\n",
    "4.2 Estatística de teste:\n",
    "\n",
    "$t=\\frac{b_1}{S_{b_1}}$  ~ $t_{n-2}$\n",
    "\n",
    "4.3 Intervalo de confiança para $\\beta_1$:\n",
    "\n",
    "$b_1-t_{\\alpha/2}S_{b_1}<\\beta_1<b_1+t_{\\alpha/2}S_{b_1}$\n",
    "\n",
    "4.4 Como encontrar $S_{b_1}$?\n",
    "\n",
    "Temos que $SQR=S_{yy}-b_1S_{xy}$\n",
    "\n",
    "Então $S^2=\\frac{SQR}{n-2}$\n",
    "\n",
    "Por fim, $S_{b_1}^2=\\frac{S^2}{S_{xx}}$, bastando tirar a raiz."
   ]
  }
 ],
 "metadata": {
  "kernelspec": {
   "display_name": "Python 3 (ipykernel)",
   "language": "python",
   "name": "python3"
  },
  "language_info": {
   "codemirror_mode": {
    "name": "ipython",
    "version": 3
   },
   "file_extension": ".py",
   "mimetype": "text/x-python",
   "name": "python",
   "nbconvert_exporter": "python",
   "pygments_lexer": "ipython3",
   "version": "3.9.5"
  }
 },
 "nbformat": 4,
 "nbformat_minor": 5
}
